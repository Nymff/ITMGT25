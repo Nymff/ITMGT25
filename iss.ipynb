{
 "cells": [
  {
   "cell_type": "code",
   "execution_count": 1,
   "id": "3581bd6b-91e3-4cd6-9d90-fb074f763bd3",
   "metadata": {},
   "outputs": [],
   "source": [
    "import requests\n",
    "\n",
    "reqs = requests.get('http://api.open-notify.org/iss-now.json')"
   ]
  },
  {
   "cell_type": "code",
   "execution_count": 2,
   "id": "65c9875e-22f1-4f13-8b75-d66e5ec1c922",
   "metadata": {},
   "outputs": [
    {
     "data": {
      "text/plain": [
       "{'iss_position': {'latitude': '-6.4689', 'longitude': '144.0174'},\n",
       " 'timestamp': 1688044959,\n",
       " 'message': 'success'}"
      ]
     },
     "execution_count": 2,
     "metadata": {},
     "output_type": "execute_result"
    }
   ],
   "source": [
    "reqs.json()"
   ]
  },
  {
   "cell_type": "code",
   "execution_count": 3,
   "id": "4d5bb615-5c40-4d26-be92-266fceaf148c",
   "metadata": {},
   "outputs": [
    {
     "name": "stdout",
     "output_type": "stream",
     "text": [
      "0\n",
      "1\n",
      "2\n",
      "3\n",
      "4\n",
      "5\n",
      "6\n",
      "7\n",
      "8\n",
      "9\n",
      "10\n",
      "11\n",
      "12\n",
      "13\n",
      "14\n",
      "15\n",
      "16\n",
      "17\n",
      "18\n",
      "19\n",
      "20\n",
      "21\n",
      "22\n",
      "23\n",
      "24\n",
      "25\n",
      "26\n",
      "27\n",
      "28\n",
      "29\n",
      "30\n",
      "31\n",
      "32\n",
      "33\n",
      "34\n",
      "35\n",
      "36\n",
      "37\n",
      "38\n",
      "39\n",
      "40\n",
      "41\n",
      "42\n",
      "43\n",
      "44\n",
      "45\n",
      "46\n",
      "47\n",
      "48\n",
      "49\n",
      "50\n",
      "51\n",
      "52\n",
      "53\n",
      "54\n",
      "55\n",
      "56\n",
      "57\n",
      "58\n",
      "59\n",
      "60\n",
      "61\n",
      "62\n",
      "63\n",
      "64\n",
      "65\n",
      "66\n",
      "67\n",
      "68\n",
      "69\n",
      "70\n",
      "71\n",
      "72\n",
      "73\n",
      "74\n",
      "75\n",
      "76\n",
      "77\n",
      "78\n",
      "79\n",
      "80\n",
      "81\n",
      "82\n",
      "83\n",
      "84\n",
      "85\n",
      "86\n",
      "87\n",
      "88\n",
      "89\n",
      "90\n",
      "91\n",
      "92\n",
      "93\n",
      "94\n",
      "95\n",
      "96\n",
      "97\n",
      "98\n",
      "99\n"
     ]
    }
   ],
   "source": [
    "import time\n",
    "\n",
    "iss_data = []\n",
    "\n",
    "for i in range(100):\n",
    "    print(i)\n",
    "    reqs = requests.get('http://api.open-notify.org/iss-now.json')\n",
    "    json_data = reqs.json()\n",
    "    iss_data.append(json_data)\n",
    "    time.sleep(10)\n",
    "    "
   ]
  },
  {
   "cell_type": "code",
   "execution_count": 4,
   "id": "03288f93-0c22-4b5c-8a83-9152b29daf1c",
   "metadata": {},
   "outputs": [],
   "source": [
    "timestamps1 = []\n",
    "longitudes1 = []\n",
    "latitudes1 = []\n",
    "place = 0\n",
    "for i in range(len(iss_data)):\n",
    "    time = iss_data[place]['timestamp']\n",
    "    longitude = iss_data[place]['iss_position']['longitude']\n",
    "    latitude = iss_data[place]['iss_position']['latitude']\n",
    "    timestamps1.append(time)\n",
    "    longitudes1.append(longitude)\n",
    "    latitudes1.append(latitude)\n",
    "    place +=1\n",
    "    \n",
    "\n",
    "timestamps2 = [float(x) for x in timestamps1]\n",
    "longitudes2 = [float(x) for x in longitudes1]\n",
    "latitudes2 = [float(x) for x in latitudes1]\n"
   ]
  },
  {
   "cell_type": "code",
   "execution_count": 5,
   "id": "45ad3259-e161-4592-ac21-9ca3599d780f",
   "metadata": {},
   "outputs": [
    {
     "data": {
      "image/png": "[encoded data removed]",
      "text/plain": [
       "<Figure size 200x200 with 1 Axes>"
      ]
     },
     "metadata": {},
     "output_type": "display_data"
    }
   ],
   "source": [
    "import matplotlib.pyplot as plt\n",
    "import numpy as np\n",
    "\n",
    "plt.style.use('_mpl-gallery')\n",
    "\n",
    "# Make data\n",
    "\n",
    "xs = longitudes2\n",
    "ys = latitudes2\n",
    "zs = timestamps2\n",
    "\n",
    "# Plot\n",
    "fig, ax = plt.subplots(subplot_kw={\"projection\": \"3d\"})\n",
    "ax.scatter(xs, ys, zs)\n",
    "\n",
    "ax.set(xticklabels=[],\n",
    "       yticklabels=[],\n",
    "       zticklabels=[])\n",
    "\n",
    "plt.show()"
   ]
  },
  {
   "cell_type": "code",
   "execution_count": null,
   "id": "2ff643cb-c487-4353-8821-d325b5ffd73d",
   "metadata": {},
   "outputs": [],
   "source": []
  }
 ],
 "metadata": {
  "kernelspec": {
   "display_name": "Python 3 (ipykernel)",
   "language": "python",
   "name": "python3"
  },
  "language_info": {
   "codemirror_mode": {
    "name": "ipython",
    "version": 3
   },
   "file_extension": ".py",
   "mimetype": "text/x-python",
   "name": "python",
   "nbconvert_exporter": "python",
   "pygments_lexer": "ipython3",
   "version": "3.10.9"
  }
 },
 "nbformat": 4,
 "nbformat_minor": 5
}
