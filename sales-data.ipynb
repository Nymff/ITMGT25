{
 "cells": [
  {
   "cell_type": "code",
   "execution_count": 106,
   "id": "97985c66-bbbb-4c34-8f9b-dbe12659c45f",
   "metadata": {},
   "outputs": [],
   "source": [
    "import pandas as pd\n",
    "\n",
    "invoice = pd.read_csv('fct_invoice.csv')\n",
    "customer = pd.read_json('dim_customer.json')"
   ]
  },
  {
   "cell_type": "code",
   "execution_count": 94,
   "id": "4f39e158-1cc4-4f2f-9c98-d7bdc06de208",
   "metadata": {},
   "outputs": [],
   "source": [
    "merged = pd.merge(invoice, customer, left_on='customer_id', right_on='id', how='inner')"
   ]
  },
  {
   "cell_type": "markdown",
   "id": "dd8e6d03-ef00-434a-90a9-f111a00d6e92",
   "metadata": {},
   "source": [
    "# How many unique customers are in the dataset?"
   ]
  },
  {
   "cell_type": "code",
   "execution_count": 86,
   "id": "86b3f282-20ec-4f40-937f-ccb7d97b9c3c",
   "metadata": {},
   "outputs": [
    {
     "data": {
      "text/plain": [
       "5191"
      ]
     },
     "execution_count": 86,
     "metadata": {},
     "output_type": "execute_result"
    }
   ],
   "source": [
    "customer['id'].nunique()"
   ]
  },
  {
   "cell_type": "markdown",
   "id": "cd8407e4-99d3-4d71-bec8-d3d94e5aa328",
   "metadata": {},
   "source": [
    "# What are the different categories of products available? How many unique categories are there?"
   ]
  },
  {
   "cell_type": "code",
   "execution_count": 90,
   "id": "10edcc39-eeef-4ce8-b997-8f9a4916af74",
   "metadata": {},
   "outputs": [
    {
     "data": {
      "text/plain": [
       "array(['Clothing', 'Shoes', 'Books', 'Cosmetics', 'Food & Beverage',\n",
       "       'Toys', 'Technology', 'Souvenir'], dtype=object)"
      ]
     },
     "execution_count": 90,
     "metadata": {},
     "output_type": "execute_result"
    }
   ],
   "source": [
    "invoice['category'].unique()"
   ]
  },
  {
   "cell_type": "code",
   "execution_count": 71,
   "id": "66044d44-6d08-4a9b-8195-a220d9688adf",
   "metadata": {},
   "outputs": [
    {
     "data": {
      "text/plain": [
       "8"
      ]
     },
     "execution_count": 71,
     "metadata": {},
     "output_type": "execute_result"
    }
   ],
   "source": [
    "invoice['category'].nunique()"
   ]
  },
  {
   "cell_type": "markdown",
   "id": "a6fc5b4e-8956-441a-b86f-c377166f0225",
   "metadata": {},
   "source": [
    "# Which payment method is the most popular? How many times was it used?"
   ]
  },
  {
   "cell_type": "code",
   "execution_count": 79,
   "id": "ff279761-5fd1-4056-8cc9-ea663b4574f2",
   "metadata": {},
   "outputs": [
    {
     "data": {
      "text/plain": [
       "Cash           44447\n",
       "Credit Card    34931\n",
       "Debit Card     20079\n",
       "Name: payment_method, dtype: int64"
      ]
     },
     "execution_count": 79,
     "metadata": {},
     "output_type": "execute_result"
    }
   ],
   "source": [
    "invoice['payment_method'].value_counts()"
   ]
  },
  {
   "cell_type": "markdown",
   "id": "c254e832-475a-40a3-98d3-a188cf63f22f",
   "metadata": {},
   "source": [
    "#  What are the three most popular categories, by total sales?"
   ]
  },
  {
   "cell_type": "code",
   "execution_count": 92,
   "id": "ebfa7080-0834-484a-98d0-36e623a672ed",
   "metadata": {},
   "outputs": [
    {
     "data": {
      "text/plain": [
       "category\n",
       "Books               14982\n",
       "Clothing           103558\n",
       "Cosmetics           45465\n",
       "Food & Beverage     44277\n",
       "Shoes               30217\n",
       "Souvenir            14871\n",
       "Technology          15021\n",
       "Toys                30321\n",
       "Name: quantity, dtype: int64"
      ]
     },
     "execution_count": 92,
     "metadata": {},
     "output_type": "execute_result"
    }
   ],
   "source": [
    "invoice.groupby('category').sum(numeric_only=True)['quantity']"
   ]
  },
  {
   "cell_type": "markdown",
   "id": "8dd0fccc-d700-4ae5-a78f-774788b311c1",
   "metadata": {},
   "source": [
    "#  What are the total sales attributed to customers over the age of 45?"
   ]
  },
  {
   "cell_type": "code",
   "execution_count": 103,
   "id": "5ce37da7-2744-41df-a325-cb68c5bd353e",
   "metadata": {},
   "outputs": [
    {
     "data": {
      "text/plain": [
       "97629"
      ]
     },
     "execution_count": 103,
     "metadata": {},
     "output_type": "execute_result"
    }
   ],
   "source": [
    "merged[merged['age'] > 45]['quantity'].sum()"
   ]
  },
  {
   "cell_type": "markdown",
   "id": "1ec0e74a-ac90-4edb-800f-d2e0e5904f0a",
   "metadata": {},
   "source": [
    "# How is the data distributed across different invoice dates? Are there any seasonal trends or patterns? (Use a graph for this.)\n"
   ]
  },
  {
   "cell_type": "code",
   "execution_count": 202,
   "id": "6b4686e2-fc0c-424e-956d-6af9c9784cd5",
   "metadata": {},
   "outputs": [],
   "source": [
    "merged['DTYear'] = pd.to_datetime(merged['invoice_date'], format='%d/%m/%Y')\n",
    "merged['DTYear']\n",
    "merged['month'] = merged['DTYear'].dt.month"
   ]
  },
  {
   "cell_type": "code",
   "execution_count": 201,
   "id": "a1b702a5-3832-4941-8b4c-f689742e6de3",
   "metadata": {},
   "outputs": [
    {
     "data": {
      "image/png": "[encoded data removed]",
      "text/plain": [
       "<Figure size 200x200 with 1 Axes>"
      ]
     },
     "metadata": {},
     "output_type": "display_data"
    }
   ],
   "source": [
    "import matplotlib.pyplot as plt\n",
    "\n",
    "grouped_data = merged.groupby('month')['quantity'].sum()\n",
    "\n",
    "plt.bar(grouped_data.index, grouped_data.values)\n",
    "plt.xlabel('Month')\n",
    "plt.ylabel('Quantity')\n",
    "plt.title('Quantity Sold per Month')\n",
    "plt.show()\n"
   ]
  },
  {
   "cell_type": "markdown",
   "id": "2483a041-1d37-413c-a082-2d356bb96da5",
   "metadata": {},
   "source": [
    "# Create a pivot table showing the breakdown of sales across these dimensions, in this order: category, decade age range (e.g., 10-19, 20-29, and so forth)."
   ]
  },
  {
   "cell_type": "code",
   "execution_count": 200,
   "id": "53724091-bc3b-4d9a-b817-90661ffea485",
   "metadata": {},
   "outputs": [],
   "source": [
    "merged['age_range'] = pd.cut(merged['age'], bins=[10, 20, 30, 40, 50, 60, 70, 80, 90], labels=['10-19', '20-29', '30-39', '40-49', '50-59', '60-69', '70-79', '80-89'])"
   ]
  },
  {
   "cell_type": "code",
   "execution_count": 199,
   "id": "7f9a55dd-d29f-4dcd-82ae-a52afb3e4a59",
   "metadata": {},
   "outputs": [
    {
     "data": {
      "text/html": [
       "<div>\n",
       "<style scoped>\n",
       "    .dataframe tbody tr th:only-of-type {\n",
       "        vertical-align: middle;\n",
       "    }\n",
       "\n",
       "    .dataframe tbody tr th {\n",
       "        vertical-align: top;\n",
       "    }\n",
       "\n",
       "    .dataframe thead th {\n",
       "        text-align: right;\n",
       "    }\n",
       "</style>\n",
       "<table border=\"1\" class=\"dataframe\">\n",
       "  <thead>\n",
       "    <tr style=\"text-align: right;\">\n",
       "      <th>age_range</th>\n",
       "      <th>10-19</th>\n",
       "      <th>20-29</th>\n",
       "      <th>30-39</th>\n",
       "      <th>40-49</th>\n",
       "      <th>50-59</th>\n",
       "      <th>60-69</th>\n",
       "      <th>70-79</th>\n",
       "      <th>80-89</th>\n",
       "    </tr>\n",
       "    <tr>\n",
       "      <th>category</th>\n",
       "      <th></th>\n",
       "      <th></th>\n",
       "      <th></th>\n",
       "      <th></th>\n",
       "      <th></th>\n",
       "      <th></th>\n",
       "      <th></th>\n",
       "      <th></th>\n",
       "    </tr>\n",
       "  </thead>\n",
       "  <tbody>\n",
       "    <tr>\n",
       "      <th>Books</th>\n",
       "      <td>351</td>\n",
       "      <td>1443</td>\n",
       "      <td>1522</td>\n",
       "      <td>1471</td>\n",
       "      <td>1438</td>\n",
       "      <td>1354</td>\n",
       "      <td>1031</td>\n",
       "      <td>409</td>\n",
       "    </tr>\n",
       "    <tr>\n",
       "      <th>Clothing</th>\n",
       "      <td>2722</td>\n",
       "      <td>9233</td>\n",
       "      <td>10391</td>\n",
       "      <td>9996</td>\n",
       "      <td>9802</td>\n",
       "      <td>9080</td>\n",
       "      <td>7154</td>\n",
       "      <td>3401</td>\n",
       "    </tr>\n",
       "    <tr>\n",
       "      <th>Cosmetics</th>\n",
       "      <td>1178</td>\n",
       "      <td>3999</td>\n",
       "      <td>4865</td>\n",
       "      <td>4382</td>\n",
       "      <td>4214</td>\n",
       "      <td>3990</td>\n",
       "      <td>2884</td>\n",
       "      <td>1470</td>\n",
       "    </tr>\n",
       "    <tr>\n",
       "      <th>Food &amp; Beverage</th>\n",
       "      <td>1067</td>\n",
       "      <td>3929</td>\n",
       "      <td>4651</td>\n",
       "      <td>4443</td>\n",
       "      <td>4106</td>\n",
       "      <td>3968</td>\n",
       "      <td>2894</td>\n",
       "      <td>1328</td>\n",
       "    </tr>\n",
       "    <tr>\n",
       "      <th>Shoes</th>\n",
       "      <td>638</td>\n",
       "      <td>2810</td>\n",
       "      <td>3181</td>\n",
       "      <td>3035</td>\n",
       "      <td>2832</td>\n",
       "      <td>2471</td>\n",
       "      <td>2134</td>\n",
       "      <td>951</td>\n",
       "    </tr>\n",
       "    <tr>\n",
       "      <th>Souvenir</th>\n",
       "      <td>458</td>\n",
       "      <td>1267</td>\n",
       "      <td>1487</td>\n",
       "      <td>1488</td>\n",
       "      <td>1352</td>\n",
       "      <td>1215</td>\n",
       "      <td>907</td>\n",
       "      <td>475</td>\n",
       "    </tr>\n",
       "    <tr>\n",
       "      <th>Technology</th>\n",
       "      <td>438</td>\n",
       "      <td>1313</td>\n",
       "      <td>1607</td>\n",
       "      <td>1518</td>\n",
       "      <td>1222</td>\n",
       "      <td>1386</td>\n",
       "      <td>964</td>\n",
       "      <td>400</td>\n",
       "    </tr>\n",
       "    <tr>\n",
       "      <th>Toys</th>\n",
       "      <td>748</td>\n",
       "      <td>2841</td>\n",
       "      <td>3259</td>\n",
       "      <td>2891</td>\n",
       "      <td>2747</td>\n",
       "      <td>2593</td>\n",
       "      <td>2179</td>\n",
       "      <td>983</td>\n",
       "    </tr>\n",
       "  </tbody>\n",
       "</table>\n",
       "</div>"
      ],
      "text/plain": [
       "age_range        10-19  20-29  30-39  40-49  50-59  60-69  70-79  80-89\n",
       "category                                                               \n",
       "Books              351   1443   1522   1471   1438   1354   1031    409\n",
       "Clothing          2722   9233  10391   9996   9802   9080   7154   3401\n",
       "Cosmetics         1178   3999   4865   4382   4214   3990   2884   1470\n",
       "Food & Beverage   1067   3929   4651   4443   4106   3968   2894   1328\n",
       "Shoes              638   2810   3181   3035   2832   2471   2134    951\n",
       "Souvenir           458   1267   1487   1488   1352   1215    907    475\n",
       "Technology         438   1313   1607   1518   1222   1386    964    400\n",
       "Toys               748   2841   3259   2891   2747   2593   2179    983"
      ]
     },
     "execution_count": 199,
     "metadata": {},
     "output_type": "execute_result"
    }
   ],
   "source": [
    "pivot_table = merged.pivot_table(index='category', columns='age_range', values='quantity', aggfunc='sum')\n",
    "pivot_table"
   ]
  }
 ],
 "metadata": {
  "kernelspec": {
   "display_name": "Python 3 (ipykernel)",
   "language": "python",
   "name": "python3"
  },
  "language_info": {
   "codemirror_mode": {
    "name": "ipython",
    "version": 3
   },
   "file_extension": ".py",
   "mimetype": "text/x-python",
   "name": "python",
   "nbconvert_exporter": "python",
   "pygments_lexer": "ipython3",
   "version": "3.10.9"
  }
 },
 "nbformat": 4,
 "nbformat_minor": 5
}
