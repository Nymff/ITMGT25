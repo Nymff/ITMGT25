{
 "cells": [
  {
   "cell_type": "code",
   "execution_count": 2,
   "id": "97985c66-bbbb-4c34-8f9b-dbe12659c45f",
   "metadata": {},
   "outputs": [],
   "source": [
    "import pandas as pd\n",
    "\n",
    "invoice = pd.read_csv('fct_invoice.csv')\n",
    "customer = pd.read_json('dim_customer.json')"
   ]
  },
  {
   "cell_type": "code",
   "execution_count": 3,
   "id": "4f39e158-1cc4-4f2f-9c98-d7bdc06de208",
   "metadata": {},
   "outputs": [],
   "source": [
    "merged = pd.merge(invoice, customer, left_on='customer_id', right_on='id', how='inner')"
   ]
  },
  {
   "cell_type": "code",
   "execution_count": 37,
   "id": "d4bfeac9-6895-4ec2-be71-dfee85a81fa9",
   "metadata": {
    "tags": []
   },
   "outputs": [],
   "source": [
    "merged['sales'] = merged['quantity'] * merged['price']"
   ]
  },
  {
   "cell_type": "markdown",
   "id": "dd8e6d03-ef00-434a-90a9-f111a00d6e92",
   "metadata": {},
   "source": [
    "# How many unique customers are in the dataset?"
   ]
  },
  {
   "cell_type": "code",
   "execution_count": 86,
   "id": "86b3f282-20ec-4f40-937f-ccb7d97b9c3c",
   "metadata": {},
   "outputs": [
    {
     "data": {
      "text/plain": [
       "5191"
      ]
     },
     "execution_count": 86,
     "metadata": {},
     "output_type": "execute_result"
    }
   ],
   "source": [
    "customer['id'].nunique()"
   ]
  },
  {
   "cell_type": "markdown",
   "id": "cd8407e4-99d3-4d71-bec8-d3d94e5aa328",
   "metadata": {},
   "source": [
    "# What are the different categories of products available? How many unique categories are there?"
   ]
  },
  {
   "cell_type": "code",
   "execution_count": 90,
   "id": "10edcc39-eeef-4ce8-b997-8f9a4916af74",
   "metadata": {},
   "outputs": [
    {
     "data": {
      "text/plain": [
       "array(['Clothing', 'Shoes', 'Books', 'Cosmetics', 'Food & Beverage',\n",
       "       'Toys', 'Technology', 'Souvenir'], dtype=object)"
      ]
     },
     "execution_count": 90,
     "metadata": {},
     "output_type": "execute_result"
    }
   ],
   "source": [
    "invoice['category'].unique()"
   ]
  },
  {
   "cell_type": "code",
   "execution_count": 71,
   "id": "66044d44-6d08-4a9b-8195-a220d9688adf",
   "metadata": {},
   "outputs": [
    {
     "data": {
      "text/plain": [
       "8"
      ]
     },
     "execution_count": 71,
     "metadata": {},
     "output_type": "execute_result"
    }
   ],
   "source": [
    "invoice['category'].nunique()"
   ]
  },
  {
   "cell_type": "markdown",
   "id": "a6fc5b4e-8956-441a-b86f-c377166f0225",
   "metadata": {},
   "source": [
    "# Which payment method is the most popular? How many times was it used?"
   ]
  },
  {
   "cell_type": "code",
   "execution_count": 16,
   "id": "ff279761-5fd1-4056-8cc9-ea663b4574f2",
   "metadata": {},
   "outputs": [
    {
     "data": {
      "text/plain": [
       "Cash    44447\n",
       "Name: payment_method, dtype: int64"
      ]
     },
     "execution_count": 16,
     "metadata": {},
     "output_type": "execute_result"
    }
   ],
   "source": [
    "invoice['payment_method'].value_counts().nlargest(1)"
   ]
  },
  {
   "cell_type": "markdown",
   "id": "c254e832-475a-40a3-98d3-a188cf63f22f",
   "metadata": {},
   "source": [
    "#  What are the three most popular categories, by total sales?"
   ]
  },
  {
   "cell_type": "code",
   "execution_count": 14,
   "id": "ebfa7080-0834-484a-98d0-36e623a672ed",
   "metadata": {},
   "outputs": [
    {
     "data": {
      "text/plain": [
       "category\n",
       "Clothing      3.218136e+12\n",
       "Shoes         5.479955e+11\n",
       "Technology    2.369120e+11\n",
       "dtype: float64"
      ]
     },
     "execution_count": 14,
     "metadata": {},
     "output_type": "execute_result"
    }
   ],
   "source": [
    "invoice.groupby('category').apply(lambda x: x['quantity'].sum() * x['price'].sum()).nlargest(3)"
   ]
  },
  {
   "cell_type": "markdown",
   "id": "8dd0fccc-d700-4ae5-a78f-774788b311c1",
   "metadata": {},
   "source": [
    "#  What are the total sales attributed to customers over the age of 45?"
   ]
  },
  {
   "cell_type": "code",
   "execution_count": 23,
   "id": "6329056e-96f7-4609-903d-5016999e7a84",
   "metadata": {
    "tags": []
   },
   "outputs": [
    {
     "data": {
      "text/plain": [
       "82039768.15"
      ]
     },
     "execution_count": 23,
     "metadata": {},
     "output_type": "execute_result"
    }
   ],
   "source": [
    "(merged[merged['age'] > 45]['quantity'] * merged[merged['age'] > 45]['price']).sum()"
   ]
  },
  {
   "cell_type": "markdown",
   "id": "1ec0e74a-ac90-4edb-800f-d2e0e5904f0a",
   "metadata": {},
   "source": [
    "# How is the data distributed across different invoice dates? Are there any seasonal trends or patterns? (Use a graph for this.)\n"
   ]
  },
  {
   "cell_type": "code",
   "execution_count": 29,
   "id": "6b4686e2-fc0c-424e-956d-6af9c9784cd5",
   "metadata": {},
   "outputs": [],
   "source": [
    "merged['DTYear'] = pd.to_datetime(merged['invoice_date'], format='%d/%m/%Y')\n",
    "merged['DTYear']\n",
    "merged['month'] = merged['DTYear'].dt.month"
   ]
  },
  {
   "cell_type": "code",
   "execution_count": 34,
   "id": "f044494e-53b0-4f81-acfb-f0ca17f7d343",
   "metadata": {
    "tags": []
   },
   "outputs": [
    {
     "data": {
      "image/png": "[encoded data removed]",
      "text/plain": [
       "<Figure size 640x480 with 1 Axes>"
      ]
     },
     "metadata": {},
     "output_type": "display_data"
    }
   ],
   "source": [
    "import matplotlib.pyplot as plt\n",
    "\n",
    "grouped_data = merged.groupby('month').apply(lambda x: x['quantity'].sum() * x['price'].sum())\n",
    "\n",
    "plt.bar(grouped_data.index, grouped_data.values)\n",
    "plt.xlabel('Month')\n",
    "plt.ylabel('Quantity')\n",
    "plt.title('Quantity Sold per Month')\n",
    "plt.show()\n"
   ]
  },
  {
   "cell_type": "markdown",
   "id": "2483a041-1d37-413c-a082-2d356bb96da5",
   "metadata": {},
   "source": [
    "# Create a pivot table showing the breakdown of sales across these dimensions, in this order: category, decade age range (e.g., 10-19, 20-29, and so forth)."
   ]
  },
  {
   "cell_type": "code",
   "execution_count": 39,
   "id": "53724091-bc3b-4d9a-b817-90661ffea485",
   "metadata": {},
   "outputs": [],
   "source": [
    "merged['age_range'] = pd.cut(merged['age'], bins=[10, 20, 30, 40, 50, 60, 70, 80, 90], labels=['10-19', '20-29', '30-39', '40-49', '50-59', '60-69', '70-79', '80-89'])"
   ]
  },
  {
   "cell_type": "code",
   "execution_count": 40,
   "id": "7f9a55dd-d29f-4dcd-82ae-a52afb3e4a59",
   "metadata": {},
   "outputs": [
    {
     "data": {
      "text/html": [
       "<div>\n",
       "<style scoped>\n",
       "    .dataframe tbody tr th:only-of-type {\n",
       "        vertical-align: middle;\n",
       "    }\n",
       "\n",
       "    .dataframe tbody tr th {\n",
       "        vertical-align: top;\n",
       "    }\n",
       "\n",
       "    .dataframe thead th {\n",
       "        text-align: right;\n",
       "    }\n",
       "</style>\n",
       "<table border=\"1\" class=\"dataframe\">\n",
       "  <thead>\n",
       "    <tr style=\"text-align: right;\">\n",
       "      <th>age_range</th>\n",
       "      <th>10-19</th>\n",
       "      <th>20-29</th>\n",
       "      <th>30-39</th>\n",
       "      <th>40-49</th>\n",
       "      <th>50-59</th>\n",
       "      <th>60-69</th>\n",
       "      <th>70-79</th>\n",
       "      <th>80-89</th>\n",
       "    </tr>\n",
       "    <tr>\n",
       "      <th>category</th>\n",
       "      <th></th>\n",
       "      <th></th>\n",
       "      <th></th>\n",
       "      <th></th>\n",
       "      <th></th>\n",
       "      <th></th>\n",
       "      <th></th>\n",
       "      <th></th>\n",
       "    </tr>\n",
       "  </thead>\n",
       "  <tbody>\n",
       "    <tr>\n",
       "      <th>Books</th>\n",
       "      <td>19891.95</td>\n",
       "      <td>80128.35</td>\n",
       "      <td>84446.10</td>\n",
       "      <td>82946.25</td>\n",
       "      <td>79537.50</td>\n",
       "      <td>76234.80</td>\n",
       "      <td>56251.95</td>\n",
       "      <td>21103.95</td>\n",
       "    </tr>\n",
       "    <tr>\n",
       "      <th>Clothing</th>\n",
       "      <td>3029007.52</td>\n",
       "      <td>10079987.28</td>\n",
       "      <td>11516170.16</td>\n",
       "      <td>10933114.72</td>\n",
       "      <td>10819684.48</td>\n",
       "      <td>10004067.04</td>\n",
       "      <td>7871098.40</td>\n",
       "      <td>3739897.04</td>\n",
       "    </tr>\n",
       "    <tr>\n",
       "      <th>Cosmetics</th>\n",
       "      <td>178009.48</td>\n",
       "      <td>594733.82</td>\n",
       "      <td>722406.22</td>\n",
       "      <td>656740.32</td>\n",
       "      <td>621366.12</td>\n",
       "      <td>599735.00</td>\n",
       "      <td>427824.52</td>\n",
       "      <td>214684.80</td>\n",
       "    </tr>\n",
       "    <tr>\n",
       "      <th>Food &amp; Beverage</th>\n",
       "      <td>20433.61</td>\n",
       "      <td>74271.23</td>\n",
       "      <td>89187.19</td>\n",
       "      <td>85034.57</td>\n",
       "      <td>77686.42</td>\n",
       "      <td>76127.88</td>\n",
       "      <td>55584.44</td>\n",
       "      <td>25334.12</td>\n",
       "    </tr>\n",
       "    <tr>\n",
       "      <th>Shoes</th>\n",
       "      <td>1367187.26</td>\n",
       "      <td>6152942.84</td>\n",
       "      <td>7178633.37</td>\n",
       "      <td>6775319.13</td>\n",
       "      <td>6268175.48</td>\n",
       "      <td>5499357.71</td>\n",
       "      <td>4718536.54</td>\n",
       "      <td>2125201.97</td>\n",
       "    </tr>\n",
       "    <tr>\n",
       "      <th>Souvenir</th>\n",
       "      <td>20128.68</td>\n",
       "      <td>53570.91</td>\n",
       "      <td>63705.63</td>\n",
       "      <td>65007.66</td>\n",
       "      <td>57594.30</td>\n",
       "      <td>51482.97</td>\n",
       "      <td>38439.21</td>\n",
       "      <td>20234.25</td>\n",
       "    </tr>\n",
       "    <tr>\n",
       "      <th>Technology</th>\n",
       "      <td>1772400.00</td>\n",
       "      <td>5049450.00</td>\n",
       "      <td>6231750.00</td>\n",
       "      <td>5840100.00</td>\n",
       "      <td>4662000.00</td>\n",
       "      <td>5218500.00</td>\n",
       "      <td>3773700.00</td>\n",
       "      <td>1449000.00</td>\n",
       "    </tr>\n",
       "    <tr>\n",
       "      <th>Toys</th>\n",
       "      <td>98273.28</td>\n",
       "      <td>380011.52</td>\n",
       "      <td>426460.16</td>\n",
       "      <td>378864.64</td>\n",
       "      <td>357002.24</td>\n",
       "      <td>340659.20</td>\n",
       "      <td>285608.96</td>\n",
       "      <td>126336.00</td>\n",
       "    </tr>\n",
       "  </tbody>\n",
       "</table>\n",
       "</div>"
      ],
      "text/plain": [
       "age_range             10-19        20-29        30-39        40-49  \\\n",
       "category                                                             \n",
       "Books              19891.95     80128.35     84446.10     82946.25   \n",
       "Clothing         3029007.52  10079987.28  11516170.16  10933114.72   \n",
       "Cosmetics         178009.48    594733.82    722406.22    656740.32   \n",
       "Food & Beverage    20433.61     74271.23     89187.19     85034.57   \n",
       "Shoes            1367187.26   6152942.84   7178633.37   6775319.13   \n",
       "Souvenir           20128.68     53570.91     63705.63     65007.66   \n",
       "Technology       1772400.00   5049450.00   6231750.00   5840100.00   \n",
       "Toys               98273.28    380011.52    426460.16    378864.64   \n",
       "\n",
       "age_range              50-59        60-69       70-79       80-89  \n",
       "category                                                           \n",
       "Books               79537.50     76234.80    56251.95    21103.95  \n",
       "Clothing         10819684.48  10004067.04  7871098.40  3739897.04  \n",
       "Cosmetics          621366.12    599735.00   427824.52   214684.80  \n",
       "Food & Beverage     77686.42     76127.88    55584.44    25334.12  \n",
       "Shoes             6268175.48   5499357.71  4718536.54  2125201.97  \n",
       "Souvenir            57594.30     51482.97    38439.21    20234.25  \n",
       "Technology        4662000.00   5218500.00  3773700.00  1449000.00  \n",
       "Toys               357002.24    340659.20   285608.96   126336.00  "
      ]
     },
     "execution_count": 40,
     "metadata": {},
     "output_type": "execute_result"
    }
   ],
   "source": [
    "pivot_table = merged.pivot_table(index='category', columns='age_range', values='sales', aggfunc='sum')\n",
    "pivot_table"
   ]
  },
  {
   "cell_type": "code",
   "execution_count": null,
   "id": "a5eb5c57-1bae-4db0-9c03-b5fcf5867984",
   "metadata": {},
   "outputs": [],
   "source": []
  }
 ],
 "metadata": {
  "kernelspec": {
   "display_name": "Python 3 (ipykernel)",
   "language": "python",
   "name": "python3"
  },
  "language_info": {
   "codemirror_mode": {
    "name": "ipython",
    "version": 3
   },
   "file_extension": ".py",
   "mimetype": "text/x-python",
   "name": "python",
   "nbconvert_exporter": "python",
   "pygments_lexer": "ipython3",
   "version": "3.10.9"
  }
 },
 "nbformat": 4,
 "nbformat_minor": 5
}
